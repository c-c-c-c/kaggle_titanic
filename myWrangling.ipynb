{
  "nbformat": 4,
  "nbformat_minor": 0,
  "metadata": {
    "colab": {
      "name": "myWrangling.ipynb",
      "provenance": [],
      "mount_file_id": "1Z814ocIwufX_o392ngYleVRyNYb-yRDL",
      "authorship_tag": "ABX9TyNlVhGWwuiaz3fBGoe412nq",
      "include_colab_link": true
    },
    "kernelspec": {
      "name": "python3",
      "display_name": "Python 3"
    }
  },
  "cells": [
    {
      "cell_type": "markdown",
      "metadata": {
        "id": "view-in-github",
        "colab_type": "text"
      },
      "source": [
        "<a href=\"https://colab.research.google.com/github/c-c-c-c/kaggle_titanic/blob/master/myWrangling.ipynb\" target=\"_parent\"><img src=\"https://colab.research.google.com/assets/colab-badge.svg\" alt=\"Open In Colab\"/></a>"
      ]
    },
    {
      "cell_type": "code",
      "metadata": {
        "id": "FQqUZH9zoWR1",
        "colab_type": "code",
        "colab": {}
      },
      "source": [
        "import numpy as np # linear algebra\n",
        "import pandas as pd # data processing, CSV file I/O (e.g. pd.read_csv)\n",
        "# Suppress warnings \n",
        "import warnings\n",
        "warnings.filterwarnings('ignore')\n",
        "import gc\n",
        "\n",
        "# matplotlib and seaborn for plotting\n",
        "import matplotlib.pyplot as plt\n",
        "%matplotlib inline\n",
        "import seaborn as sns\n",
        "\n",
        "#追記\n",
        "import json\n",
        "import datetime\n",
        "import math\n",
        "\n",
        "#importじゃないけど、個人的には省略されて良いことがあまりないので・・\n",
        "pd.set_option('display.max_columns', 50)\n",
        "pd.set_option('display.max_rows', 100)\n",
        "\n",
        "from sklearn import preprocessing\n",
        "from sklearn.model_selection import StratifiedKFold\n",
        "import lightgbm as lgb\n"
      ],
      "execution_count": 0,
      "outputs": []
    },
    {
      "cell_type": "code",
      "metadata": {
        "id": "bXirFef_pcNf",
        "colab_type": "code",
        "colab": {}
      },
      "source": [
        ""
      ],
      "execution_count": 0,
      "outputs": []
    },
    {
      "cell_type": "code",
      "metadata": {
        "id": "c_sB8JUBopCY",
        "colab_type": "code",
        "colab": {}
      },
      "source": [
        "train = pd.read_csv('/content/drive/My Drive/Colab Notebooks/kaggle_titanic/titanic/data/train.csv')\n",
        "test = pd.read_csv('/content/drive/My Drive/Colab Notebooks/kaggle_titanic/titanic/data/test.csv')\n",
        "gender_submission = pd.read_csv('/content/drive/My Drive/Colab Notebooks/kaggle_titanic/titanic/data/gender_submission.csv')\n",
        "# gender_submission = pd.read_csv('../input/titanic/gender_submission.csv')"
      ],
      "execution_count": 0,
      "outputs": []
    },
    {
      "cell_type": "code",
      "metadata": {
        "id": "7Fs9qYEBopc1",
        "colab_type": "code",
        "colab": {
          "base_uri": "https://localhost:8080/",
          "height": 884
        },
        "outputId": "bb8e28cc-f187-46dd-a7c3-04f073f584b8"
      },
      "source": [
        "train.head(10)"
      ],
      "execution_count": 40,
      "outputs": [
        {
          "output_type": "execute_result",
          "data": {
            "text/html": [
              "<div>\n",
              "<style scoped>\n",
              "    .dataframe tbody tr th:only-of-type {\n",
              "        vertical-align: middle;\n",
              "    }\n",
              "\n",
              "    .dataframe tbody tr th {\n",
              "        vertical-align: top;\n",
              "    }\n",
              "\n",
              "    .dataframe thead th {\n",
              "        text-align: right;\n",
              "    }\n",
              "</style>\n",
              "<table border=\"1\" class=\"dataframe\">\n",
              "  <thead>\n",
              "    <tr style=\"text-align: right;\">\n",
              "      <th></th>\n",
              "      <th>PassengerId</th>\n",
              "      <th>Survived</th>\n",
              "      <th>Pclass</th>\n",
              "      <th>Name</th>\n",
              "      <th>Sex</th>\n",
              "      <th>Age</th>\n",
              "      <th>SibSp</th>\n",
              "      <th>Parch</th>\n",
              "      <th>Ticket</th>\n",
              "      <th>Fare</th>\n",
              "      <th>Cabin</th>\n",
              "      <th>Embarked</th>\n",
              "    </tr>\n",
              "  </thead>\n",
              "  <tbody>\n",
              "    <tr>\n",
              "      <th>0</th>\n",
              "      <td>1</td>\n",
              "      <td>0</td>\n",
              "      <td>3</td>\n",
              "      <td>Braund, Mr. Owen Harris</td>\n",
              "      <td>male</td>\n",
              "      <td>22.0</td>\n",
              "      <td>1</td>\n",
              "      <td>0</td>\n",
              "      <td>A/5 21171</td>\n",
              "      <td>7.2500</td>\n",
              "      <td>NaN</td>\n",
              "      <td>S</td>\n",
              "    </tr>\n",
              "    <tr>\n",
              "      <th>1</th>\n",
              "      <td>2</td>\n",
              "      <td>1</td>\n",
              "      <td>1</td>\n",
              "      <td>Cumings, Mrs. John Bradley (Florence Briggs Th...</td>\n",
              "      <td>female</td>\n",
              "      <td>38.0</td>\n",
              "      <td>1</td>\n",
              "      <td>0</td>\n",
              "      <td>PC 17599</td>\n",
              "      <td>71.2833</td>\n",
              "      <td>C85</td>\n",
              "      <td>C</td>\n",
              "    </tr>\n",
              "    <tr>\n",
              "      <th>2</th>\n",
              "      <td>3</td>\n",
              "      <td>1</td>\n",
              "      <td>3</td>\n",
              "      <td>Heikkinen, Miss. Laina</td>\n",
              "      <td>female</td>\n",
              "      <td>26.0</td>\n",
              "      <td>0</td>\n",
              "      <td>0</td>\n",
              "      <td>STON/O2. 3101282</td>\n",
              "      <td>7.9250</td>\n",
              "      <td>NaN</td>\n",
              "      <td>S</td>\n",
              "    </tr>\n",
              "    <tr>\n",
              "      <th>3</th>\n",
              "      <td>4</td>\n",
              "      <td>1</td>\n",
              "      <td>1</td>\n",
              "      <td>Futrelle, Mrs. Jacques Heath (Lily May Peel)</td>\n",
              "      <td>female</td>\n",
              "      <td>35.0</td>\n",
              "      <td>1</td>\n",
              "      <td>0</td>\n",
              "      <td>113803</td>\n",
              "      <td>53.1000</td>\n",
              "      <td>C123</td>\n",
              "      <td>S</td>\n",
              "    </tr>\n",
              "    <tr>\n",
              "      <th>4</th>\n",
              "      <td>5</td>\n",
              "      <td>0</td>\n",
              "      <td>3</td>\n",
              "      <td>Allen, Mr. William Henry</td>\n",
              "      <td>male</td>\n",
              "      <td>35.0</td>\n",
              "      <td>0</td>\n",
              "      <td>0</td>\n",
              "      <td>373450</td>\n",
              "      <td>8.0500</td>\n",
              "      <td>NaN</td>\n",
              "      <td>S</td>\n",
              "    </tr>\n",
              "    <tr>\n",
              "      <th>5</th>\n",
              "      <td>6</td>\n",
              "      <td>0</td>\n",
              "      <td>3</td>\n",
              "      <td>Moran, Mr. James</td>\n",
              "      <td>male</td>\n",
              "      <td>NaN</td>\n",
              "      <td>0</td>\n",
              "      <td>0</td>\n",
              "      <td>330877</td>\n",
              "      <td>8.4583</td>\n",
              "      <td>NaN</td>\n",
              "      <td>Q</td>\n",
              "    </tr>\n",
              "    <tr>\n",
              "      <th>6</th>\n",
              "      <td>7</td>\n",
              "      <td>0</td>\n",
              "      <td>1</td>\n",
              "      <td>McCarthy, Mr. Timothy J</td>\n",
              "      <td>male</td>\n",
              "      <td>54.0</td>\n",
              "      <td>0</td>\n",
              "      <td>0</td>\n",
              "      <td>17463</td>\n",
              "      <td>51.8625</td>\n",
              "      <td>E46</td>\n",
              "      <td>S</td>\n",
              "    </tr>\n",
              "    <tr>\n",
              "      <th>7</th>\n",
              "      <td>8</td>\n",
              "      <td>0</td>\n",
              "      <td>3</td>\n",
              "      <td>Palsson, Master. Gosta Leonard</td>\n",
              "      <td>male</td>\n",
              "      <td>2.0</td>\n",
              "      <td>3</td>\n",
              "      <td>1</td>\n",
              "      <td>349909</td>\n",
              "      <td>21.0750</td>\n",
              "      <td>NaN</td>\n",
              "      <td>S</td>\n",
              "    </tr>\n",
              "    <tr>\n",
              "      <th>8</th>\n",
              "      <td>9</td>\n",
              "      <td>1</td>\n",
              "      <td>3</td>\n",
              "      <td>Johnson, Mrs. Oscar W (Elisabeth Vilhelmina Berg)</td>\n",
              "      <td>female</td>\n",
              "      <td>27.0</td>\n",
              "      <td>0</td>\n",
              "      <td>2</td>\n",
              "      <td>347742</td>\n",
              "      <td>11.1333</td>\n",
              "      <td>NaN</td>\n",
              "      <td>S</td>\n",
              "    </tr>\n",
              "    <tr>\n",
              "      <th>9</th>\n",
              "      <td>10</td>\n",
              "      <td>1</td>\n",
              "      <td>2</td>\n",
              "      <td>Nasser, Mrs. Nicholas (Adele Achem)</td>\n",
              "      <td>female</td>\n",
              "      <td>14.0</td>\n",
              "      <td>1</td>\n",
              "      <td>0</td>\n",
              "      <td>237736</td>\n",
              "      <td>30.0708</td>\n",
              "      <td>NaN</td>\n",
              "      <td>C</td>\n",
              "    </tr>\n",
              "  </tbody>\n",
              "</table>\n",
              "</div>"
            ],
            "text/plain": [
              "   PassengerId  Survived  Pclass  \\\n",
              "0            1         0       3   \n",
              "1            2         1       1   \n",
              "2            3         1       3   \n",
              "3            4         1       1   \n",
              "4            5         0       3   \n",
              "5            6         0       3   \n",
              "6            7         0       1   \n",
              "7            8         0       3   \n",
              "8            9         1       3   \n",
              "9           10         1       2   \n",
              "\n",
              "                                                Name     Sex   Age  SibSp  \\\n",
              "0                            Braund, Mr. Owen Harris    male  22.0      1   \n",
              "1  Cumings, Mrs. John Bradley (Florence Briggs Th...  female  38.0      1   \n",
              "2                             Heikkinen, Miss. Laina  female  26.0      0   \n",
              "3       Futrelle, Mrs. Jacques Heath (Lily May Peel)  female  35.0      1   \n",
              "4                           Allen, Mr. William Henry    male  35.0      0   \n",
              "5                                   Moran, Mr. James    male   NaN      0   \n",
              "6                            McCarthy, Mr. Timothy J    male  54.0      0   \n",
              "7                     Palsson, Master. Gosta Leonard    male   2.0      3   \n",
              "8  Johnson, Mrs. Oscar W (Elisabeth Vilhelmina Berg)  female  27.0      0   \n",
              "9                Nasser, Mrs. Nicholas (Adele Achem)  female  14.0      1   \n",
              "\n",
              "   Parch            Ticket     Fare Cabin Embarked  \n",
              "0      0         A/5 21171   7.2500   NaN        S  \n",
              "1      0          PC 17599  71.2833   C85        C  \n",
              "2      0  STON/O2. 3101282   7.9250   NaN        S  \n",
              "3      0            113803  53.1000  C123        S  \n",
              "4      0            373450   8.0500   NaN        S  \n",
              "5      0            330877   8.4583   NaN        Q  \n",
              "6      0             17463  51.8625   E46        S  \n",
              "7      1            349909  21.0750   NaN        S  \n",
              "8      2            347742  11.1333   NaN        S  \n",
              "9      0            237736  30.0708   NaN        C  "
            ]
          },
          "metadata": {
            "tags": []
          },
          "execution_count": 40
        }
      ]
    },
    {
      "cell_type": "code",
      "metadata": {
        "id": "Gr8GoRG2_5w1",
        "colab_type": "code",
        "colab": {}
      },
      "source": [
        "train[\"is_train\"] = 1\n",
        "test[\"is_train\"]  = 0"
      ],
      "execution_count": 0,
      "outputs": []
    },
    {
      "cell_type": "code",
      "metadata": {
        "id": "46zITYDiAR8J",
        "colab_type": "code",
        "colab": {}
      },
      "source": [
        "df_merged = pd.concat([train,test])"
      ],
      "execution_count": 0,
      "outputs": []
    },
    {
      "cell_type": "code",
      "metadata": {
        "id": "7oIqLcezlw9F",
        "colab_type": "code",
        "colab": {}
      },
      "source": [
        "# df_merged[\"Embarked\"] = df_merged[\"Embarked\"].fillna(\"NNN\")"
      ],
      "execution_count": 0,
      "outputs": []
    },
    {
      "cell_type": "code",
      "metadata": {
        "id": "3RQrvg1_mdZu",
        "colab_type": "code",
        "colab": {}
      },
      "source": [
        "# # df_merged[ df_merged[\"Embarked\"]==999]\n",
        "\n",
        "# # df_merged[df_merged[\"Sex\"].isnull()]\n",
        "\n",
        "# # df_merged\n",
        "\n",
        "# le = preprocessing.LabelEncoder()\n",
        "# le.fit(df_merged[\"Embarked\"])\n",
        "# df_merged[\"Embarked\"] = le.transform(df_merged[\"Embarked\"])\n"
      ],
      "execution_count": 0,
      "outputs": []
    },
    {
      "cell_type": "code",
      "metadata": {
        "id": "FvchZyuwnwdV",
        "colab_type": "code",
        "colab": {}
      },
      "source": [
        "\n",
        "# df_merged[df_merged[\"Embarked\"].isnull()]\n",
        "# set(df_merged[\"Embarked\"].values)"
      ],
      "execution_count": 0,
      "outputs": []
    },
    {
      "cell_type": "code",
      "metadata": {
        "id": "uKydVNJsojWs",
        "colab_type": "code",
        "colab": {}
      },
      "source": [
        "# df_merged[df_merged[\"Sex\"].isnull()]\n",
        "# set(df_merged[\"Sex\"].values)"
      ],
      "execution_count": 0,
      "outputs": []
    },
    {
      "cell_type": "code",
      "metadata": {
        "id": "eWycIZ6si5ZJ",
        "colab_type": "code",
        "colab": {}
      },
      "source": [
        "# for column in ['Sex','Embarked']:\n",
        "for column in ['Sex','Embarked']:\n",
        "#     print(titanic[column].shape)\n",
        "    df_merged[column] = df_merged[column].fillna(\"NNN\")\n",
        "    le = preprocessing.LabelEncoder()\n",
        "    le.fit(df_merged[column])\n",
        "    df_merged[column] = le.transform(df_merged[column])\n",
        "\n",
        "\n"
      ],
      "execution_count": 0,
      "outputs": []
    },
    {
      "cell_type": "code",
      "metadata": {
        "id": "aFJq1kVhp5N0",
        "colab_type": "code",
        "colab": {}
      },
      "source": [
        "train = df_merged[df_merged[\"is_train\"] ==1]"
      ],
      "execution_count": 0,
      "outputs": []
    },
    {
      "cell_type": "code",
      "metadata": {
        "id": "eySefgNDqINw",
        "colab_type": "code",
        "colab": {}
      },
      "source": [
        "test = df_merged[df_merged[\"is_train\"] ==0]"
      ],
      "execution_count": 0,
      "outputs": []
    },
    {
      "cell_type": "code",
      "metadata": {
        "id": "rN2z7t9JopQe",
        "colab_type": "code",
        "colab": {}
      },
      "source": [
        "# # SexとEmbarkedのlabel encoding\n",
        "# train = pd.get_dummies(train, columns=['Sex', 'Embarked']) \n",
        "# test = pd.get_dummies(test, columns=['Sex', 'Embarked'])\n",
        "# 不要な列の削除\n",
        "train.drop(['PassengerId', 'Name', 'Cabin', 'Ticket'], axis=1, inplace=True)\n",
        "test.drop(['PassengerId', 'Name', 'Cabin', 'Ticket'], axis=1, inplace=True)"
      ],
      "execution_count": 0,
      "outputs": []
    },
    {
      "cell_type": "code",
      "metadata": {
        "id": "O5xNVpjXopvM",
        "colab_type": "code",
        "colab": {}
      },
      "source": [
        "feat_cols =  list(train.columns)\n",
        "feat_cols.remove('Survived')\n",
        "feat_cols.remove('is_train')\n",
        "\n",
        "categoricals = [\"Pclass\", 'SibSp','Parch','Sex','Embarked']"
      ],
      "execution_count": 0,
      "outputs": []
    },
    {
      "cell_type": "code",
      "metadata": {
        "id": "KVpe8lvev8Bk",
        "colab_type": "code",
        "colab": {}
      },
      "source": [
        "# feat_cols"
      ],
      "execution_count": 0,
      "outputs": []
    },
    {
      "cell_type": "code",
      "metadata": {
        "colab_type": "code",
        "id": "TWSsTv5zqpL7",
        "colab": {}
      },
      "source": [
        "params = {\n",
        "            'boosting_type': 'gbdt',\n",
        "            'objective': 'binary',\n",
        "            # 'metric': {'rmse'},\n",
        "            'subsample': 0.7,\n",
        "            'subsample_freq': 1,\n",
        "            'learning_rate': 0.01,\n",
        "            'num_leaves': 100,\n",
        "            'min_data_in_leaf':24,\n",
        "            'feature_fraction': 0.9,\n",
        "            'lambda_l1': 1,  \n",
        "            'lambda_l2': 1\n",
        "            }"
      ],
      "execution_count": 0,
      "outputs": []
    },
    {
      "cell_type": "code",
      "metadata": {
        "id": "ryxnSLXEycqu",
        "colab_type": "code",
        "colab": {}
      },
      "source": [
        "folds = 5\n",
        "seed = 666\n",
        "\n",
        "kf = StratifiedKFold(n_splits=folds, shuffle=False, random_state=seed)"
      ],
      "execution_count": 0,
      "outputs": []
    },
    {
      "cell_type": "code",
      "metadata": {
        "id": "PytDr9C9op81",
        "colab_type": "code",
        "colab": {
          "base_uri": "https://localhost:8080/",
          "height": 1000
        },
        "outputId": "c70fe3c7-a3d1-413a-b70f-e759aef8bce1"
      },
      "source": [
        "models = []\n",
        "for train_index, val_index in kf.split(train, train['Survived']):\n",
        "    train_X = train[feat_cols].iloc[train_index]\n",
        "    val_X = train[feat_cols].iloc[val_index]\n",
        "    train_y = train[\"Survived\"].iloc[train_index]\n",
        "    val_y = train[\"Survived\"].iloc[val_index]\n",
        "\n",
        "    lgb_train = lgb.Dataset(train_X, train_y, categorical_feature=categoricals)\n",
        "    lgb_eval = lgb.Dataset(val_X, val_y, categorical_feature=categoricals)\n",
        "\n",
        "    \n",
        "    gbm = lgb.train(params,\n",
        "                lgb_train,\n",
        "                num_boost_round=2000,\n",
        "                valid_sets=(lgb_train, lgb_eval),\n",
        "                early_stopping_rounds=100,\n",
        "                verbose_eval = 100)\n",
        "    models.append(gbm)"
      ],
      "execution_count": 54,
      "outputs": [
        {
          "output_type": "stream",
          "text": [
            "Training until validation scores don't improve for 100 rounds.\n",
            "[100]\ttraining's binary_logloss: 0.472191\tvalid_1's binary_logloss: 0.524273\n",
            "[200]\ttraining's binary_logloss: 0.411625\tvalid_1's binary_logloss: 0.486109\n",
            "[300]\ttraining's binary_logloss: 0.382243\tvalid_1's binary_logloss: 0.472528\n",
            "[400]\ttraining's binary_logloss: 0.363404\tvalid_1's binary_logloss: 0.463965\n",
            "[500]\ttraining's binary_logloss: 0.348365\tvalid_1's binary_logloss: 0.459558\n",
            "[600]\ttraining's binary_logloss: 0.336182\tvalid_1's binary_logloss: 0.454063\n",
            "[700]\ttraining's binary_logloss: 0.326615\tvalid_1's binary_logloss: 0.45009\n",
            "[800]\ttraining's binary_logloss: 0.317845\tvalid_1's binary_logloss: 0.445997\n",
            "[900]\ttraining's binary_logloss: 0.310041\tvalid_1's binary_logloss: 0.44271\n",
            "[1000]\ttraining's binary_logloss: 0.302881\tvalid_1's binary_logloss: 0.441255\n",
            "[1100]\ttraining's binary_logloss: 0.296869\tvalid_1's binary_logloss: 0.440371\n",
            "[1200]\ttraining's binary_logloss: 0.291201\tvalid_1's binary_logloss: 0.437599\n",
            "[1300]\ttraining's binary_logloss: 0.286086\tvalid_1's binary_logloss: 0.435239\n",
            "[1400]\ttraining's binary_logloss: 0.28097\tvalid_1's binary_logloss: 0.433409\n",
            "[1500]\ttraining's binary_logloss: 0.276501\tvalid_1's binary_logloss: 0.43231\n",
            "[1600]\ttraining's binary_logloss: 0.272316\tvalid_1's binary_logloss: 0.43155\n",
            "Early stopping, best iteration is:\n",
            "[1557]\ttraining's binary_logloss: 0.27409\tvalid_1's binary_logloss: 0.431046\n",
            "Training until validation scores don't improve for 100 rounds.\n",
            "[100]\ttraining's binary_logloss: 0.471455\tvalid_1's binary_logloss: 0.493949\n",
            "[200]\ttraining's binary_logloss: 0.40787\tvalid_1's binary_logloss: 0.462519\n",
            "[300]\ttraining's binary_logloss: 0.376087\tvalid_1's binary_logloss: 0.458724\n",
            "Early stopping, best iteration is:\n",
            "[288]\ttraining's binary_logloss: 0.378904\tvalid_1's binary_logloss: 0.458199\n",
            "Training until validation scores don't improve for 100 rounds.\n",
            "[100]\ttraining's binary_logloss: 0.481076\tvalid_1's binary_logloss: 0.473724\n",
            "[200]\ttraining's binary_logloss: 0.423751\tvalid_1's binary_logloss: 0.422259\n",
            "[300]\ttraining's binary_logloss: 0.395647\tvalid_1's binary_logloss: 0.404285\n",
            "[400]\ttraining's binary_logloss: 0.375802\tvalid_1's binary_logloss: 0.395611\n",
            "[500]\ttraining's binary_logloss: 0.359807\tvalid_1's binary_logloss: 0.390441\n",
            "[600]\ttraining's binary_logloss: 0.347674\tvalid_1's binary_logloss: 0.386927\n",
            "[700]\ttraining's binary_logloss: 0.336786\tvalid_1's binary_logloss: 0.383953\n",
            "[800]\ttraining's binary_logloss: 0.327243\tvalid_1's binary_logloss: 0.382866\n",
            "[900]\ttraining's binary_logloss: 0.319347\tvalid_1's binary_logloss: 0.381626\n",
            "[1000]\ttraining's binary_logloss: 0.311946\tvalid_1's binary_logloss: 0.379873\n",
            "[1100]\ttraining's binary_logloss: 0.305387\tvalid_1's binary_logloss: 0.378603\n",
            "[1200]\ttraining's binary_logloss: 0.299436\tvalid_1's binary_logloss: 0.377681\n",
            "[1300]\ttraining's binary_logloss: 0.294175\tvalid_1's binary_logloss: 0.377197\n",
            "[1400]\ttraining's binary_logloss: 0.288724\tvalid_1's binary_logloss: 0.375759\n",
            "[1500]\ttraining's binary_logloss: 0.283875\tvalid_1's binary_logloss: 0.374907\n",
            "[1600]\ttraining's binary_logloss: 0.279458\tvalid_1's binary_logloss: 0.373972\n",
            "[1700]\ttraining's binary_logloss: 0.275566\tvalid_1's binary_logloss: 0.373873\n",
            "Early stopping, best iteration is:\n",
            "[1646]\ttraining's binary_logloss: 0.277576\tvalid_1's binary_logloss: 0.373426\n",
            "Training until validation scores don't improve for 100 rounds.\n",
            "[100]\ttraining's binary_logloss: 0.476076\tvalid_1's binary_logloss: 0.491516\n",
            "[200]\ttraining's binary_logloss: 0.417672\tvalid_1's binary_logloss: 0.447184\n",
            "[300]\ttraining's binary_logloss: 0.38846\tvalid_1's binary_logloss: 0.431588\n",
            "[400]\ttraining's binary_logloss: 0.368049\tvalid_1's binary_logloss: 0.425272\n",
            "[500]\ttraining's binary_logloss: 0.351088\tvalid_1's binary_logloss: 0.423212\n",
            "[600]\ttraining's binary_logloss: 0.338262\tvalid_1's binary_logloss: 0.422937\n",
            "[700]\ttraining's binary_logloss: 0.327021\tvalid_1's binary_logloss: 0.422109\n",
            "Early stopping, best iteration is:\n",
            "[644]\ttraining's binary_logloss: 0.333075\tvalid_1's binary_logloss: 0.421723\n",
            "Training until validation scores don't improve for 100 rounds.\n",
            "[100]\ttraining's binary_logloss: 0.484003\tvalid_1's binary_logloss: 0.477128\n",
            "[200]\ttraining's binary_logloss: 0.428289\tvalid_1's binary_logloss: 0.422456\n",
            "[300]\ttraining's binary_logloss: 0.40123\tvalid_1's binary_logloss: 0.401327\n",
            "[400]\ttraining's binary_logloss: 0.382293\tvalid_1's binary_logloss: 0.389656\n",
            "[500]\ttraining's binary_logloss: 0.36606\tvalid_1's binary_logloss: 0.381901\n",
            "[600]\ttraining's binary_logloss: 0.35274\tvalid_1's binary_logloss: 0.376712\n",
            "[700]\ttraining's binary_logloss: 0.34137\tvalid_1's binary_logloss: 0.373834\n",
            "[800]\ttraining's binary_logloss: 0.331618\tvalid_1's binary_logloss: 0.372136\n",
            "[900]\ttraining's binary_logloss: 0.323198\tvalid_1's binary_logloss: 0.371354\n",
            "Early stopping, best iteration is:\n",
            "[883]\ttraining's binary_logloss: 0.324582\tvalid_1's binary_logloss: 0.370753\n"
          ],
          "name": "stdout"
        }
      ]
    },
    {
      "cell_type": "code",
      "metadata": {
        "id": "lxItkeHJoqEC",
        "colab_type": "code",
        "colab": {}
      },
      "source": [
        "predicts_sum = []\n",
        "for i, tmp_model in enumerate(models):\n",
        "    predicts = tmp_model.predict(test[feat_cols])\n",
        "\n",
        "    if  i == 0 :\n",
        "        predicts_sum = predicts\n",
        "    else:\n",
        "        for i in range(len(predicts_sum)):\n",
        "            predicts_sum[i] += predicts[i]\n",
        "\n",
        "u_predicts = [ x/len(models) for x in predicts_sum ]"
      ],
      "execution_count": 0,
      "outputs": []
    },
    {
      "cell_type": "code",
      "metadata": {
        "id": "3YcBMYtxyp4g",
        "colab_type": "code",
        "colab": {}
      },
      "source": [
        "test[\"Survived\"] = [ 1 if x > 0.5 else 0 for  x in u_predicts]\n",
        "\n",
        "# [式 for 任意の変数名 in イテラブルオブジェクト"
      ],
      "execution_count": 0,
      "outputs": []
    },
    {
      "cell_type": "code",
      "metadata": {
        "id": "zdqhU_SlzpEQ",
        "colab_type": "code",
        "colab": {}
      },
      "source": [
        "df_sub = gender_submission.copy()\n",
        "df_sub[\"Survived\"] = test[\"Survived\"]"
      ],
      "execution_count": 0,
      "outputs": []
    },
    {
      "cell_type": "code",
      "metadata": {
        "id": "YGGhVJ-l00kN",
        "colab_type": "code",
        "colab": {}
      },
      "source": [
        "df_sub.to_csv('/content/drive/My Drive/Colab Notebooks/kaggle_titanic/titanic/sub.csv',index=False)"
      ],
      "execution_count": 0,
      "outputs": []
    },
    {
      "cell_type": "code",
      "metadata": {
        "id": "nLjVskRS1ELB",
        "colab_type": "code",
        "colab": {}
      },
      "source": [
        ""
      ],
      "execution_count": 0,
      "outputs": []
    }
  ]
}